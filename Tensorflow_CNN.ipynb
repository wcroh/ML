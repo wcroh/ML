{
  "nbformat": 4,
  "nbformat_minor": 0,
  "metadata": {
    "colab": {
      "provenance": [],
      "collapsed_sections": []
    },
    "kernelspec": {
      "name": "python3",
      "display_name": "Python 3"
    },
    "accelerator": "GPU"
  },
  "cells": [
    {
      "cell_type": "code",
      "metadata": {
        "id": "LydTwAzMhHw0",
        "colab": {
          "base_uri": "https://localhost:8080/"
        },
        "outputId": "61a2e988-5976-44ce-a2a1-828fe8f55f6e"
      },
      "source": [
        "import tensorflow as tf\n",
        "\n",
        "# Download the mnist dataset using keras\n",
        "data_train, data_test = tf.keras.datasets.mnist.load_data()\n",
        "\n",
        "# Parse images and labels\n",
        "(train_images, train_labels) = data_train\n",
        "(test_images, test_labels) = data_test\n",
        "\n",
        "# Numpy reshape & type casting\n",
        "train_images = train_images.reshape(train_images.shape[0], 28, 28, 1).astype('float32')\n",
        "test_images = test_images.reshape(test_images.shape[0], 28, 28, 1).astype('float32')\n",
        "train_labels = train_labels.astype('int64')\n",
        "test_labels = test_labels.astype('int64')\n",
        "\n",
        "\n",
        "# Normalizing the images to the range of [0., 1.]\n",
        "train_images /= 255.\n",
        "test_images /= 255.\n",
        "\n",
        "print(train_images.shape, train_labels.shape)\n",
        "print(test_images.shape, test_labels.shape)"
      ],
      "execution_count": null,
      "outputs": [
        {
          "output_type": "stream",
          "text": [
            "Downloading data from https://storage.googleapis.com/tensorflow/tf-keras-datasets/mnist.npz\n",
            "11493376/11490434 [==============================] - 0s 0us/step\n",
            "(60000, 28, 28, 1) (60000,)\n",
            "(10000, 28, 28, 1) (10000,)\n"
          ],
          "name": "stdout"
        }
      ]
    },
    {
      "cell_type": "code",
      "metadata": {
        "id": "i_USTku5_-r8"
      },
      "source": [
        "from tensorflow.keras import Model\n",
        "# Construct a tf.keras.model using tf.keras\n",
        "class MyCNN(Model):\n",
        "  def __init__(self):\n",
        "    super(MyCNN, self).__init__()\n",
        "    self.conv1 = tf.keras.layers.Conv2D(32, (3, 3), activation='relu', padding='valid')\n",
        "    self.conv2 = tf.keras.layers.Conv2D(64, (3, 3), activation='relu', padding='valid')\n",
        "    self.conv3 = tf.keras.layers.Conv2D(128, (3, 3), activation='relu', padding='valid')\n",
        "    self.maxpool = tf.keras.layers.MaxPooling2D((2, 2))\n",
        "    self.flatten = tf.keras.layers.Flatten()\n",
        "    self.dense1 = tf.keras.layers.Dense(256, activation='relu')\n",
        "    self.dense2 = tf.keras.layers.Dense(10, activation='softmax')\n",
        "\n",
        "  def call(self, x):\n",
        "    x = self.conv1(x)\n",
        "    x = self.maxpool(x)\n",
        "\n",
        "    x = self.conv2(x)\n",
        "    x = self.maxpool(x)\n",
        "\n",
        "    x = self.conv3(x)\n",
        "    x = self.maxpool(x)\n",
        "\n",
        "    x = self.flatten(x)\n",
        "    x = self.dense1(x)\n",
        "    x = self.dense2(x)\n",
        "    \n",
        "    return x\n",
        "\n",
        "# Create model\n",
        "model = MyCNN()"
      ],
      "execution_count": null,
      "outputs": []
    },
    {
      "cell_type": "code",
      "metadata": {
        "id": "6cBrLLCDpq2a"
      },
      "source": [
        "# Choose loss function and optimizer for training\n",
        "loss_fn = tf.keras.losses.SparseCategoricalCrossentropy()\n",
        "optimizer = tf.keras.optimizers.Adam()\n",
        "\n",
        "# Metrics to measure loss and accuracy of the model\n",
        "train_loss = tf.keras.metrics.Mean(name='train_loss')\n",
        "train_accuracy = tf.keras.metrics.SparseCategoricalAccuracy(name='train_accuracy')\n",
        "\n",
        "test_loss = tf.keras.metrics.Mean(name='test_loss')\n",
        "test_accuracy = tf.keras.metrics.SparseCategoricalAccuracy(name='test_accuracy')"
      ],
      "execution_count": null,
      "outputs": []
    },
    {
      "cell_type": "code",
      "metadata": {
        "id": "KUZYje1bC1xB"
      },
      "source": [
        "# Define function for training\n",
        "@tf.function\n",
        "def train_step(images, labels):\n",
        "  with tf.GradientTape() as tape:\n",
        "    predictions = model(images, training=True)\n",
        "    loss = loss_fn(labels, predictions)\n",
        "  gradients = tape.gradient(loss, model.trainable_variables)\n",
        "  optimizer.apply_gradients(zip(gradients, model.trainable_variables))\n",
        "\n",
        "  train_loss(loss)\n",
        "  train_accuracy(labels, predictions)\n",
        "\n",
        "# Define function for testing\n",
        "@tf.function\n",
        "def test_step(images, labels):\n",
        "  predictions = model(images, training=False)\n",
        "  loss = loss_fn(labels, predictions)\n",
        "\n",
        "  test_loss(loss)\n",
        "  test_accuracy(labels, predictions)"
      ],
      "execution_count": null,
      "outputs": []
    },
    {
      "cell_type": "code",
      "metadata": {
        "id": "797JZG-zDBFa",
        "colab": {
          "base_uri": "https://localhost:8080/"
        },
        "outputId": "2ff3874a-305c-4ccc-8c89-c59ddb5cf0f3"
      },
      "source": [
        "batch_size = 128\n",
        "\n",
        "# Prepare the dataset using tf.data\n",
        "train_ds = tf.data.Dataset.from_tensor_slices((train_images, train_labels))\n",
        "train_ds = train_ds.shuffle(10000)\n",
        "train_ds = train_ds.batch(batch_size)\n",
        "\n",
        "test_ds = tf.data.Dataset.from_tensor_slices((test_images, test_labels))\n",
        "test_ds = test_ds.batch(batch_size)\n",
        "\n",
        "\n",
        "\n",
        "EPOCHS = 10\n",
        "\n",
        "for epoch in range(EPOCHS):\n",
        "    # Reset the metrics at each epoch\n",
        "    train_loss.reset_states()\n",
        "    train_accuracy.reset_states()\n",
        "    test_loss.reset_states()\n",
        "    test_accuracy.reset_states()\n",
        "\n",
        "    for images, labels in train_ds:\n",
        "      train_step(images, labels)\n",
        "\n",
        "    for images, labels in test_ds:\n",
        "      test_step(images, labels)\n",
        "\n",
        "    print('Epoch: %02d' % (epoch + 1),\n",
        "          'Loss = {:2.4f}'.format(train_loss.result()),\n",
        "          'Train accuracy = {:2.4f}'.format(train_accuracy.result()),\n",
        "          'Test loss = {:2.4f}'.format(test_loss.result()),\n",
        "          'Test accuracy = {:2.4f}'.format(test_accuracy.result()))"
      ],
      "execution_count": null,
      "outputs": [
        {
          "output_type": "stream",
          "text": [
            "Epoch: 01 Loss = 0.3077 Train accuracy = 0.9059 Test loss = 0.0938 Test accuracy = 0.9708\n",
            "Epoch: 02 Loss = 0.0897 Train accuracy = 0.9728 Test loss = 0.0639 Test accuracy = 0.9812\n",
            "Epoch: 03 Loss = 0.0611 Train accuracy = 0.9807 Test loss = 0.0638 Test accuracy = 0.9807\n",
            "Epoch: 04 Loss = 0.0473 Train accuracy = 0.9853 Test loss = 0.0585 Test accuracy = 0.9819\n",
            "Epoch: 05 Loss = 0.0403 Train accuracy = 0.9873 Test loss = 0.0579 Test accuracy = 0.9831\n",
            "Epoch: 06 Loss = 0.0328 Train accuracy = 0.9894 Test loss = 0.0490 Test accuracy = 0.9862\n",
            "Epoch: 07 Loss = 0.0267 Train accuracy = 0.9916 Test loss = 0.0467 Test accuracy = 0.9863\n",
            "Epoch: 08 Loss = 0.0222 Train accuracy = 0.9930 Test loss = 0.0639 Test accuracy = 0.9833\n",
            "Epoch: 09 Loss = 0.0205 Train accuracy = 0.9933 Test loss = 0.0481 Test accuracy = 0.9885\n",
            "Epoch: 10 Loss = 0.0163 Train accuracy = 0.9945 Test loss = 0.0504 Test accuracy = 0.9867\n"
          ],
          "name": "stdout"
        }
      ]
    }
  ]
}